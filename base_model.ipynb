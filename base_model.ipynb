{
  "nbformat": 4,
  "nbformat_minor": 0,
  "metadata": {
    "colab": {
      "provenance": [],
      "gpuType": "T4",
      "authorship_tag": "ABX9TyPHs5EPIDzRajh7ejBjgRDy",
      "include_colab_link": true
    },
    "kernelspec": {
      "name": "python3",
      "display_name": "Python 3"
    },
    "language_info": {
      "name": "python"
    },
    "accelerator": "GPU"
  },
  "cells": [
    {
      "cell_type": "markdown",
      "metadata": {
        "id": "view-in-github",
        "colab_type": "text"
      },
      "source": [
        "<a href=\"https://colab.research.google.com/github/linhtrinh213/Interpretable_VAE_TF_regulons/blob/main/base_model.ipynb\" target=\"_parent\"><img src=\"https://colab.research.google.com/assets/colab-badge.svg\" alt=\"Open In Colab\"/></a>"
      ]
    },
    {
      "cell_type": "markdown",
      "source": [
        "### Note\n",
        "To work productively with gg colab (12 hours session):\n",
        "1. Mount gg drive:\n",
        "from google.colab import drive\n",
        "drive.mount('/content/drive')\n",
        "2. Then save or load files: model.save('/content/drive/MyDrive/my_model.h5')\n",
        "\n",
        "- Export code (notebook) frequently (or save a copy in github)\n",
        "- Save model checkpoints/variables...\n"
      ],
      "metadata": {
        "id": "Jc18y448S1rq"
      }
    },
    {
      "cell_type": "markdown",
      "source": [
        "To do next:\n",
        "1. Incorporate TFs into the model\n",
        "2. train 2 base models (one for the control and one for the stimulated)\n",
        "(-> observe the weights)\n",
        "3. retrain many times"
      ],
      "metadata": {
        "id": "XRCgQS2cwBBL"
      }
    },
    {
      "cell_type": "markdown",
      "source": [
        "## 1: Loading neccessities"
      ],
      "metadata": {
        "id": "G53m43iNX0W3"
      }
    },
    {
      "cell_type": "code",
      "source": [
        "from google.colab import drive\n",
        "drive.mount('/content/drive')"
      ],
      "metadata": {
        "colab": {
          "base_uri": "https://localhost:8080/"
        },
        "id": "IRlc8vLfXnRT",
        "outputId": "a3cba1ae-b9a2-4034-f8ce-b806e93253cc"
      },
      "execution_count": 3,
      "outputs": [
        {
          "output_type": "stream",
          "name": "stdout",
          "text": [
            "Mounted at /content/drive\n"
          ]
        }
      ]
    },
    {
      "cell_type": "code",
      "source": [
        "#### Setup ####\n",
        "# install and import required packages\n",
        "!pip install scanpy\n",
        "#!pip install decoupler\n",
        "#!pip install omnipath\n",
        "\n",
        "import torch; torch.manual_seed(100)\n",
        "import torch.nn as nn\n",
        "import torch.utils\n",
        "import torch.distributions\n",
        "import torchvision\n",
        "from torchvision import datasets, transforms\n",
        "import math\n",
        "import numpy as np\n",
        "np.random.seed(100)\n",
        "import matplotlib.pyplot as plt; plt.rcParams['figure.dpi'] = 200\n",
        "import scanpy as sc\n",
        "from collections import OrderedDict\n",
        "from collections import Counter\n",
        "import pandas as pd\n",
        "\n",
        "# select the right device, depending on whether your Colab runs on GPU or CPU\n",
        "### IMPORTANT: we recommend to change your runtime to GPU, otherwise the training takes much longer\n",
        "device = 'mps'\n"
      ],
      "metadata": {
        "colab": {
          "base_uri": "https://localhost:8080/"
        },
        "id": "H0kkAyARXpnu",
        "outputId": "dec9e141-8476-46cf-ee05-702a1c8f06d0"
      },
      "execution_count": 4,
      "outputs": [
        {
          "output_type": "stream",
          "name": "stdout",
          "text": [
            "Collecting scanpy\n",
            "  Downloading scanpy-1.11.1-py3-none-any.whl.metadata (9.9 kB)\n",
            "Collecting anndata>=0.8 (from scanpy)\n",
            "  Downloading anndata-0.11.4-py3-none-any.whl.metadata (9.3 kB)\n",
            "Requirement already satisfied: h5py>=3.7 in /usr/local/lib/python3.11/dist-packages (from scanpy) (3.13.0)\n",
            "Requirement already satisfied: joblib in /usr/local/lib/python3.11/dist-packages (from scanpy) (1.5.0)\n",
            "Collecting legacy-api-wrap>=1.4 (from scanpy)\n",
            "  Downloading legacy_api_wrap-1.4.1-py3-none-any.whl.metadata (2.1 kB)\n",
            "Requirement already satisfied: matplotlib>=3.7 in /usr/local/lib/python3.11/dist-packages (from scanpy) (3.10.0)\n",
            "Requirement already satisfied: natsort in /usr/local/lib/python3.11/dist-packages (from scanpy) (8.4.0)\n",
            "Requirement already satisfied: networkx>=2.7 in /usr/local/lib/python3.11/dist-packages (from scanpy) (3.4.2)\n",
            "Requirement already satisfied: numba>=0.57 in /usr/local/lib/python3.11/dist-packages (from scanpy) (0.60.0)\n",
            "Requirement already satisfied: numpy>=1.24 in /usr/local/lib/python3.11/dist-packages (from scanpy) (2.0.2)\n",
            "Requirement already satisfied: packaging>=21.3 in /usr/local/lib/python3.11/dist-packages (from scanpy) (24.2)\n",
            "Requirement already satisfied: pandas>=1.5 in /usr/local/lib/python3.11/dist-packages (from scanpy) (2.2.2)\n",
            "Requirement already satisfied: patsy!=1.0.0 in /usr/local/lib/python3.11/dist-packages (from scanpy) (1.0.1)\n",
            "Requirement already satisfied: pynndescent>=0.5 in /usr/local/lib/python3.11/dist-packages (from scanpy) (0.5.13)\n",
            "Collecting scikit-learn<1.6.0,>=1.1 (from scanpy)\n",
            "  Downloading scikit_learn-1.5.2-cp311-cp311-manylinux_2_17_x86_64.manylinux2014_x86_64.whl.metadata (13 kB)\n",
            "Requirement already satisfied: scipy>=1.8 in /usr/local/lib/python3.11/dist-packages (from scanpy) (1.15.3)\n",
            "Requirement already satisfied: seaborn>=0.13 in /usr/local/lib/python3.11/dist-packages (from scanpy) (0.13.2)\n",
            "Collecting session-info2 (from scanpy)\n",
            "  Downloading session_info2-0.1.2-py3-none-any.whl.metadata (2.5 kB)\n",
            "Requirement already satisfied: statsmodels>=0.13 in /usr/local/lib/python3.11/dist-packages (from scanpy) (0.14.4)\n",
            "Requirement already satisfied: tqdm in /usr/local/lib/python3.11/dist-packages (from scanpy) (4.67.1)\n",
            "Requirement already satisfied: typing-extensions in /usr/local/lib/python3.11/dist-packages (from scanpy) (4.13.2)\n",
            "Requirement already satisfied: umap-learn!=0.5.0,>=0.5 in /usr/local/lib/python3.11/dist-packages (from scanpy) (0.5.7)\n",
            "Collecting array-api-compat!=1.5,>1.4 (from anndata>=0.8->scanpy)\n",
            "  Downloading array_api_compat-1.12.0-py3-none-any.whl.metadata (2.5 kB)\n",
            "Requirement already satisfied: contourpy>=1.0.1 in /usr/local/lib/python3.11/dist-packages (from matplotlib>=3.7->scanpy) (1.3.2)\n",
            "Requirement already satisfied: cycler>=0.10 in /usr/local/lib/python3.11/dist-packages (from matplotlib>=3.7->scanpy) (0.12.1)\n",
            "Requirement already satisfied: fonttools>=4.22.0 in /usr/local/lib/python3.11/dist-packages (from matplotlib>=3.7->scanpy) (4.58.0)\n",
            "Requirement already satisfied: kiwisolver>=1.3.1 in /usr/local/lib/python3.11/dist-packages (from matplotlib>=3.7->scanpy) (1.4.8)\n",
            "Requirement already satisfied: pillow>=8 in /usr/local/lib/python3.11/dist-packages (from matplotlib>=3.7->scanpy) (11.2.1)\n",
            "Requirement already satisfied: pyparsing>=2.3.1 in /usr/local/lib/python3.11/dist-packages (from matplotlib>=3.7->scanpy) (3.2.3)\n",
            "Requirement already satisfied: python-dateutil>=2.7 in /usr/local/lib/python3.11/dist-packages (from matplotlib>=3.7->scanpy) (2.9.0.post0)\n",
            "Requirement already satisfied: llvmlite<0.44,>=0.43.0dev0 in /usr/local/lib/python3.11/dist-packages (from numba>=0.57->scanpy) (0.43.0)\n",
            "Requirement already satisfied: pytz>=2020.1 in /usr/local/lib/python3.11/dist-packages (from pandas>=1.5->scanpy) (2025.2)\n",
            "Requirement already satisfied: tzdata>=2022.7 in /usr/local/lib/python3.11/dist-packages (from pandas>=1.5->scanpy) (2025.2)\n",
            "Requirement already satisfied: threadpoolctl>=3.1.0 in /usr/local/lib/python3.11/dist-packages (from scikit-learn<1.6.0,>=1.1->scanpy) (3.6.0)\n",
            "Requirement already satisfied: six>=1.5 in /usr/local/lib/python3.11/dist-packages (from python-dateutil>=2.7->matplotlib>=3.7->scanpy) (1.17.0)\n",
            "Downloading scanpy-1.11.1-py3-none-any.whl (2.1 MB)\n",
            "\u001b[2K   \u001b[90m━━━━━━━━━━━━━━━━━━━━━━━━━━━━━━━━━━━━━━━━\u001b[0m \u001b[32m2.1/2.1 MB\u001b[0m \u001b[31m71.5 MB/s\u001b[0m eta \u001b[36m0:00:00\u001b[0m\n",
            "\u001b[?25hDownloading anndata-0.11.4-py3-none-any.whl (144 kB)\n",
            "\u001b[2K   \u001b[90m━━━━━━━━━━━━━━━━━━━━━━━━━━━━━━━━━━━━━━━━\u001b[0m \u001b[32m144.5/144.5 kB\u001b[0m \u001b[31m12.8 MB/s\u001b[0m eta \u001b[36m0:00:00\u001b[0m\n",
            "\u001b[?25hDownloading legacy_api_wrap-1.4.1-py3-none-any.whl (10.0 kB)\n",
            "Downloading scikit_learn-1.5.2-cp311-cp311-manylinux_2_17_x86_64.manylinux2014_x86_64.whl (13.3 MB)\n",
            "\u001b[2K   \u001b[90m━━━━━━━━━━━━━━━━━━━━━━━━━━━━━━━━━━━━━━━━\u001b[0m \u001b[32m13.3/13.3 MB\u001b[0m \u001b[31m130.1 MB/s\u001b[0m eta \u001b[36m0:00:00\u001b[0m\n",
            "\u001b[?25h\u001b[33mWARNING: Retrying (Retry(total=4, connect=None, read=None, redirect=None, status=None)) after connection broken by 'ProtocolError('Connection aborted.', RemoteDisconnected('Remote end closed connection without response'))': /packages/db/98/9578ce1d8ae951cf44e6b7434854824f0eae12d54b270e80014f8ab1971c/session_info2-0.1.2-py3-none-any.whl\u001b[0m\u001b[33m\n",
            "\u001b[0mDownloading session_info2-0.1.2-py3-none-any.whl (14 kB)\n",
            "Downloading array_api_compat-1.12.0-py3-none-any.whl (58 kB)\n",
            "\u001b[2K   \u001b[90m━━━━━━━━━━━━━━━━━━━━━━━━━━━━━━━━━━━━━━━━\u001b[0m \u001b[32m58.2/58.2 kB\u001b[0m \u001b[31m5.8 MB/s\u001b[0m eta \u001b[36m0:00:00\u001b[0m\n",
            "\u001b[?25hInstalling collected packages: session-info2, legacy-api-wrap, array-api-compat, scikit-learn, anndata, scanpy\n",
            "  Attempting uninstall: scikit-learn\n",
            "    Found existing installation: scikit-learn 1.6.1\n",
            "    Uninstalling scikit-learn-1.6.1:\n",
            "      Successfully uninstalled scikit-learn-1.6.1\n",
            "Successfully installed anndata-0.11.4 array-api-compat-1.12.0 legacy-api-wrap-1.4.1 scanpy-1.11.1 scikit-learn-1.5.2 session-info2-0.1.2\n",
            "Collecting decoupler\n",
            "  Downloading decoupler-1.9.2-py3-none-any.whl.metadata (5.3 kB)\n",
            "Collecting numba<0.62.0,>=0.61.0 (from decoupler)\n",
            "  Downloading numba-0.61.2-cp311-cp311-manylinux2014_x86_64.manylinux_2_17_x86_64.whl.metadata (2.8 kB)\n",
            "Requirement already satisfied: numpy<3,>=2 in /usr/local/lib/python3.11/dist-packages (from decoupler) (2.0.2)\n",
            "Requirement already satisfied: pandas<3.0.0,>=2.2.2 in /usr/local/lib/python3.11/dist-packages (from decoupler) (2.2.2)\n",
            "Requirement already satisfied: tqdm<5.0.0,>=4.66.4 in /usr/local/lib/python3.11/dist-packages (from decoupler) (4.67.1)\n",
            "Requirement already satisfied: typing-extensions<5.0.0,>=4.12.2 in /usr/local/lib/python3.11/dist-packages (from decoupler) (4.13.2)\n",
            "Collecting llvmlite<0.45,>=0.44.0dev0 (from numba<0.62.0,>=0.61.0->decoupler)\n",
            "  Downloading llvmlite-0.44.0-cp311-cp311-manylinux_2_17_x86_64.manylinux2014_x86_64.whl.metadata (4.8 kB)\n",
            "Requirement already satisfied: python-dateutil>=2.8.2 in /usr/local/lib/python3.11/dist-packages (from pandas<3.0.0,>=2.2.2->decoupler) (2.9.0.post0)\n",
            "Requirement already satisfied: pytz>=2020.1 in /usr/local/lib/python3.11/dist-packages (from pandas<3.0.0,>=2.2.2->decoupler) (2025.2)\n",
            "Requirement already satisfied: tzdata>=2022.7 in /usr/local/lib/python3.11/dist-packages (from pandas<3.0.0,>=2.2.2->decoupler) (2025.2)\n",
            "Requirement already satisfied: six>=1.5 in /usr/local/lib/python3.11/dist-packages (from python-dateutil>=2.8.2->pandas<3.0.0,>=2.2.2->decoupler) (1.17.0)\n",
            "Downloading decoupler-1.9.2-py3-none-any.whl (122 kB)\n",
            "\u001b[2K   \u001b[90m━━━━━━━━━━━━━━━━━━━━━━━━━━━━━━━━━━━━━━━━\u001b[0m \u001b[32m122.6/122.6 kB\u001b[0m \u001b[31m10.1 MB/s\u001b[0m eta \u001b[36m0:00:00\u001b[0m\n",
            "\u001b[?25hDownloading numba-0.61.2-cp311-cp311-manylinux2014_x86_64.manylinux_2_17_x86_64.whl (3.8 MB)\n",
            "\u001b[2K   \u001b[90m━━━━━━━━━━━━━━━━━━━━━━━━━━━━━━━━━━━━━━━━\u001b[0m \u001b[32m3.8/3.8 MB\u001b[0m \u001b[31m104.3 MB/s\u001b[0m eta \u001b[36m0:00:00\u001b[0m\n",
            "\u001b[?25hDownloading llvmlite-0.44.0-cp311-cp311-manylinux_2_17_x86_64.manylinux2014_x86_64.whl (42.4 MB)\n",
            "\u001b[2K   \u001b[90m━━━━━━━━━━━━━━━━━━━━━━━━━━━━━━━━━━━━━━━━\u001b[0m \u001b[32m42.4/42.4 MB\u001b[0m \u001b[31m16.1 MB/s\u001b[0m eta \u001b[36m0:00:00\u001b[0m\n",
            "\u001b[?25hInstalling collected packages: llvmlite, numba, decoupler\n",
            "  Attempting uninstall: llvmlite\n",
            "    Found existing installation: llvmlite 0.43.0\n",
            "    Uninstalling llvmlite-0.43.0:\n",
            "      Successfully uninstalled llvmlite-0.43.0\n",
            "  Attempting uninstall: numba\n",
            "    Found existing installation: numba 0.60.0\n",
            "    Uninstalling numba-0.60.0:\n",
            "      Successfully uninstalled numba-0.60.0\n",
            "\u001b[31mERROR: pip's dependency resolver does not currently take into account all the packages that are installed. This behaviour is the source of the following dependency conflicts.\n",
            "cuml-cu12 25.2.1 requires numba<0.61.0a0,>=0.59.1, but you have numba 0.61.2 which is incompatible.\n",
            "cudf-cu12 25.2.1 requires numba<0.61.0a0,>=0.59.1, but you have numba 0.61.2 which is incompatible.\n",
            "dask-cuda 25.2.0 requires numba<0.61.0a0,>=0.59.1, but you have numba 0.61.2 which is incompatible.\n",
            "distributed-ucxx-cu12 0.42.0 requires numba<0.61.0a0,>=0.59.1, but you have numba 0.61.2 which is incompatible.\u001b[0m\u001b[31m\n",
            "\u001b[0mSuccessfully installed decoupler-1.9.2 llvmlite-0.44.0 numba-0.61.2\n",
            "Collecting omnipath\n",
            "  Downloading omnipath-1.0.9-py3-none-any.whl.metadata (7.0 kB)\n",
            "Requirement already satisfied: attrs>=20.2.0 in /usr/local/lib/python3.11/dist-packages (from omnipath) (25.3.0)\n",
            "Collecting docrep>=0.3.1 (from omnipath)\n",
            "  Downloading docrep-0.3.2.tar.gz (33 kB)\n",
            "  Preparing metadata (setup.py) ... \u001b[?25l\u001b[?25hdone\n",
            "Requirement already satisfied: inflect>=4.1.0 in /usr/local/lib/python3.11/dist-packages (from omnipath) (7.5.0)\n",
            "Requirement already satisfied: packaging>=24.2 in /usr/local/lib/python3.11/dist-packages (from omnipath) (24.2)\n",
            "Requirement already satisfied: pandas>=1.2.0 in /usr/local/lib/python3.11/dist-packages (from omnipath) (2.2.2)\n",
            "Requirement already satisfied: requests>=2.24.0 in /usr/local/lib/python3.11/dist-packages (from omnipath) (2.32.3)\n",
            "Requirement already satisfied: tqdm>=4.51.0 in /usr/local/lib/python3.11/dist-packages (from omnipath) (4.67.1)\n",
            "Requirement already satisfied: typing-extensions>=3.7.4.3 in /usr/local/lib/python3.11/dist-packages (from omnipath) (4.13.2)\n",
            "Requirement already satisfied: urllib3>=1.26.0 in /usr/local/lib/python3.11/dist-packages (from omnipath) (2.4.0)\n",
            "Requirement already satisfied: wrapt>=1.12.0 in /usr/local/lib/python3.11/dist-packages (from omnipath) (1.17.2)\n",
            "Requirement already satisfied: six in /usr/local/lib/python3.11/dist-packages (from docrep>=0.3.1->omnipath) (1.17.0)\n",
            "Requirement already satisfied: more_itertools>=8.5.0 in /usr/local/lib/python3.11/dist-packages (from inflect>=4.1.0->omnipath) (10.7.0)\n",
            "Requirement already satisfied: typeguard>=4.0.1 in /usr/local/lib/python3.11/dist-packages (from inflect>=4.1.0->omnipath) (4.4.2)\n",
            "Requirement already satisfied: numpy>=1.23.2 in /usr/local/lib/python3.11/dist-packages (from pandas>=1.2.0->omnipath) (2.0.2)\n",
            "Requirement already satisfied: python-dateutil>=2.8.2 in /usr/local/lib/python3.11/dist-packages (from pandas>=1.2.0->omnipath) (2.9.0.post0)\n",
            "Requirement already satisfied: pytz>=2020.1 in /usr/local/lib/python3.11/dist-packages (from pandas>=1.2.0->omnipath) (2025.2)\n",
            "Requirement already satisfied: tzdata>=2022.7 in /usr/local/lib/python3.11/dist-packages (from pandas>=1.2.0->omnipath) (2025.2)\n",
            "Requirement already satisfied: charset-normalizer<4,>=2 in /usr/local/lib/python3.11/dist-packages (from requests>=2.24.0->omnipath) (3.4.2)\n",
            "Requirement already satisfied: idna<4,>=2.5 in /usr/local/lib/python3.11/dist-packages (from requests>=2.24.0->omnipath) (3.10)\n",
            "Requirement already satisfied: certifi>=2017.4.17 in /usr/local/lib/python3.11/dist-packages (from requests>=2.24.0->omnipath) (2025.4.26)\n",
            "Downloading omnipath-1.0.9-py3-none-any.whl (51 kB)\n",
            "\u001b[2K   \u001b[90m━━━━━━━━━━━━━━━━━━━━━━━━━━━━━━━━━━━━━━━━\u001b[0m \u001b[32m51.6/51.6 kB\u001b[0m \u001b[31m4.4 MB/s\u001b[0m eta \u001b[36m0:00:00\u001b[0m\n",
            "\u001b[?25hBuilding wheels for collected packages: docrep\n",
            "  Building wheel for docrep (setup.py) ... \u001b[?25l\u001b[?25hdone\n",
            "  Created wheel for docrep: filename=docrep-0.3.2-py3-none-any.whl size=19876 sha256=958c13ce155d41dbdc5e9fca16e50eb33dbd2bbb59e0aa33dc33d6984f0665d4\n",
            "  Stored in directory: /root/.cache/pip/wheels/06/76/8f/0ecb7d357c0bff71a2bd1940671be2d07a200752da9189bb55\n",
            "Successfully built docrep\n",
            "Installing collected packages: docrep, omnipath\n",
            "Successfully installed docrep-0.3.2 omnipath-1.0.9\n"
          ]
        }
      ]
    },
    {
      "cell_type": "markdown",
      "source": [
        "## 2: The data"
      ],
      "metadata": {
        "id": "RfRDtpy8YF7n"
      }
    },
    {
      "cell_type": "code",
      "source": [
        "# Load data and use Scanpy to convert it into AnnData\n",
        "PBMC_train = sc.read_h5ad(\"/content/drive/MyDrive/WORK/Turing Project/Interpretable_VAE/data/PBMC_train.h5ad\")\n",
        "regulons = pd.read_csv('/content/drive/MyDrive/WORK/Turing Project/Interpretable_VAE/data/regulons.csv')"
      ],
      "metadata": {
        "id": "AEqMHRTUX78r"
      },
      "execution_count": 8,
      "outputs": []
    },
    {
      "cell_type": "code",
      "source": [
        "# Take a look at the data\n",
        "print(PBMC_train) #the data is stored as an anndata object\n",
        "print(Counter(PBMC_train.obs[\"cell_type\"])) #summary of cell types\n",
        "print(Counter(PBMC_train.obs[\"condition\"])) #summary of conditions\n",
        "# 13515 observation: cells (.obs attribute)\n",
        "# gene expression data: .X (sparse matrix)\n",
        "# annotations for the variables (genes) in the .var attribute\n",
        "# the attribute have specific features that can be accessed using squared bracktets"
      ],
      "metadata": {
        "colab": {
          "base_uri": "https://localhost:8080/"
        },
        "id": "0-abvgEnX94Q",
        "outputId": "5324fe93-d22d-4c0c-f826-814861acb459"
      },
      "execution_count": null,
      "outputs": [
        {
          "output_type": "stream",
          "name": "stdout",
          "text": [
            "AnnData object with n_obs × n_vars = 13515 × 6998\n",
            "    obs: 'condition', 'n_counts', 'n_genes', 'mt_frac', 'cell_type'\n",
            "    var: 'gene_symbol', 'n_cells'\n",
            "    uns: 'cell_type_colors', 'condition_colors', 'neighbors'\n",
            "    obsm: 'X_pca', 'X_tsne', 'X_umap'\n",
            "    obsp: 'connectivities', 'distances'\n",
            "Counter({'CD4T': 4452, 'FCGR3A+Mono': 2881, 'CD14+Mono': 2049, 'B': 1448, 'NK': 931, 'CD8T': 892, 'Dendritic': 862})\n",
            "Counter({'stimulated': 7109, 'control': 6406})\n"
          ]
        }
      ]
    },
    {
      "cell_type": "code",
      "source": [
        "# devide data into control and stimulated\n",
        "\n",
        "# Subset for a specific condition, e.g., \"control\"\n",
        "PBMC_control = PBMC_train[PBMC_train.obs[\"condition\"] == \"control\"].copy()\n",
        "\n",
        "# Another example for \"treated\"\n",
        "PBMC_stimulated = PBMC_train[PBMC_train.obs[\"condition\"] == \"stimulated\"].copy()\n"
      ],
      "metadata": {
        "id": "H9y5UdLFX_p6"
      },
      "execution_count": 9,
      "outputs": []
    },
    {
      "cell_type": "code",
      "source": [
        "# Define Encoder:\n",
        "class Encoder(nn.Module):\n",
        "    def __init__(self, latent_dims, input_dims, dropout, z_dropout): #dropout between the dense layers, z_dropout define the dropout rates between the encoder/latent space\n",
        "        super(Encoder, self).__init__() #run the initialize code from nn.Module -> this class behaves like a Pytorch model\n",
        "        self.encoder = nn.Sequential(\n",
        "                                     nn.Linear(input_dims, 800),\n",
        "                                     nn.ReLU(),\n",
        "                                     nn.Dropout(p = dropout),\n",
        "                                     nn.Linear(800, 800),\n",
        "                                     nn.ReLU(),\n",
        "                                     nn.Dropout(p = dropout))  #two layer, fully connected encoder with dropout\n",
        "\n",
        "        # outputs mean vector u\n",
        "        self.mu = nn.Sequential(nn.Linear(800, latent_dims), # the 800 neurons in the second layers -> latent space\n",
        "                                nn.Dropout(p = z_dropout))\n",
        "        # outputs standard variance\n",
        "        self.sigma = nn.Sequential(nn.Linear(800, latent_dims),\n",
        "                                   nn.Dropout(p = z_dropout))\n",
        "\n",
        "        self.N = torch.distributions.Normal(0, 1)  # define Gaussian distribution for each input\n",
        "        self.N.loc = self.N.loc.to(device) # move to the right device\n",
        "        self.N.scale = self.N.scale.to(device)\n",
        "        self.kl = 0 # place holder for storing KL divergence (regularization term)\n",
        "        # KL measures how far the learned Gaussian is from the standard normal (0,1) -> this is a regularization term in VAE\n",
        "    def forward(self, x):\n",
        "        x = self.encoder(x) # pass the data to the encoder\n",
        "        mu =  self.mu(x) # predict mean vector\n",
        "        sigma = torch.exp(self.sigma(x)) # predict standard var exp for numeric stability\n",
        "        z = mu + sigma*self.N.sample(mu.shape)  # Sample z using reparameterization trick\n",
        "\n",
        "        self.kl = (0.5*sigma**2 + 0.5*mu**2 - torch.log(sigma) - 1/2).sum() #calculation of kullback-leibler divergence\n",
        "\n",
        "        return z # output is the sampled latent vector\n"
      ],
      "metadata": {
        "id": "R3HwOJYXYKwQ"
      },
      "execution_count": 10,
      "outputs": []
    },
    {
      "cell_type": "markdown",
      "source": [
        "## 3: regulons and create the mask"
      ],
      "metadata": {
        "id": "g-E70Ik0YZUK"
      }
    },
    {
      "cell_type": "markdown",
      "source": [
        "To achieve interpretability through model's decoder:\n",
        "1. one-layer decoder: every latent var is directly connected to the output var\n",
        "2. linear decoder: no activation function in the decoder\n",
        "3. positive decoder: restrict the decoder weights to positive values (all negative weights = 0) (*why not - weight?, cant it be for inhibition?)\n",
        "=> for this project: TF: It can be negative!\n",
        "4. sparse decoder: latent node = TF, which only connect to certain genes\n",
        "\n",
        "\n",
        "- How do we do that?\n",
        "++ mask M: define decoder connections. Rows = genes. Columns = TF. If TF j has an effect on gene i -> the corresponding entry in the matrix M(i,j) contains the value 1. ??: has an effect = activate AND inhibit, or only activate?\n",
        "So mask M: only defines which latent node **connect** to which decoder node, and the weights will learn + or - (activation or inhibition, or at least thats what we expect).\n",
        "++ mask M: also includes fully connected nodes (all values = 1) -> for better data reconstruction and compensates for connections that are missing"
      ],
      "metadata": {
        "id": "tClVmrKyYhlP"
      }
    },
    {
      "cell_type": "code",
      "source": [
        "# processed regulons\n",
        "#import decoupler as dc\n",
        "#regulons = dc.get_collectri(organism='human', split_complexes=False)\n",
        "# CollecTRI netork: a curated collection of TFs and their transcriptional targets\n",
        "# spilt_complexes: keep or spilt complexes into subunits\n",
        "# weight: 1 is activation. -1 is inhibition\n",
        "# raw regulons\n",
        "#import omnipath as op\n",
        "#op.interactions.CollecTRI.get(genesymbols=True, organism=9606L, loops=True)#"
      ],
      "metadata": {
        "id": "zn4DHMDdYiS4"
      },
      "execution_count": null,
      "outputs": []
    },
    {
      "cell_type": "code",
      "source": [
        "regulons.target.unique()"
      ],
      "metadata": {
        "colab": {
          "base_uri": "https://localhost:8080/"
        },
        "id": "Lnp_7q6HilF_",
        "outputId": "ffdd1914-5135-418a-bbd1-83b83152f8dc"
      },
      "execution_count": null,
      "outputs": [
        {
          "output_type": "execute_result",
          "data": {
            "text/plain": [
              "<StringArray>\n",
              "[    'BAX',    'BCL2',    'BCL6',   'CCND2',  'CDKN1A',    'CSF1',   'FOXO3',\n",
              "     'JUN',    'PIM1',    'TP53',\n",
              " ...\n",
              "  'RNF114',   'ETNK1',    'CHL1',    'DSC1', 'GPRASP1',   'MAGI2',  'REC114',\n",
              "   'SYNJ1',   'TCP11', 'PIK3AP1']\n",
              "Length: 6627, dtype: string"
            ]
          },
          "metadata": {},
          "execution_count": 28
        }
      ]
    },
    {
      "cell_type": "code",
      "source": [
        "import pandas as pd\n",
        "import numpy as np\n",
        "\n",
        "def create_mask(adata, regulons, add_nodes:int=10, sep = \"\\t\"):\n",
        "    \"\"\"\n",
        "    Initialize mask M that specifies which latent nodes connect to which decoder nodes.\n",
        "    Args:\n",
        "        adata (Anndata): Scanpy single-cell object, we will store the computed mask and the names of the biological processes there\n",
        "        regulons: which TFs affected which genes\n",
        "        add_nodes (int): Additional latent nodes for capturing additional variance\n",
        "    Return:\n",
        "        adata (Anndata): Scanpy single-cell object that now stores the computed mask and the names of biological processes (in the .uns[\"_vega\"] attribute)\n",
        "        mask (array): mask M that specifies whether a gene is included in the gene set of a pathway (value one) or not (value zero)\n",
        "    \"\"\"\n",
        "\n",
        "    # Create the mask\n",
        "    # 1. Get unique genes (targets) and TFs (sources)\n",
        "    genes = regulons['target'].unique()\n",
        "    tfs = regulons['source'].unique()\n",
        "\n",
        "    # get their names and the corresponding sub‐mask\n",
        "    selected_tfs  = [\"STAT1\", \"STAT2\", \"STAT3\",\"STAT4\",\"STAT5A\",\"STAT5B\",\"STAT6\",\"IRF1\",\"IRF2\",\"IRF3\",\"IRF4\",\"IRF5\",\"IRF6\",\"IRF7\",\"IRF8\",\"IRF9\",\"NFKB\",\"AP1\",\"MYC\",\"TP53\"]\n",
        "\n",
        "    # 2. Initialize matrix M with zeros\n",
        "    M = pd.DataFrame(0, index=genes, columns=tfs)\n",
        "\n",
        "    # 3. Set M[i,j] = 1 where the gene i is affected by TF j\n",
        "    for _, row in regulons.iterrows(): # for each row in regulons\n",
        "        M.loc[row['target'], row['source']] = 1 #the corresponding genes, TF box = 1\n",
        "\n",
        "    M = M.loc[:, selected_tfs]  # if M is a pandas DataFrame\n",
        "\n",
        "    # Add unannotated nodes\n",
        "    vec = np.ones((M.shape[0], add_nodes))\n",
        "    M = np.hstack((M, vec))\n",
        "\n",
        "    adata.uns['_vega'] = dict() #create attribute \"_vega\" to store the mask and pathway information\n",
        "    adata.uns['_vega']['mask'] = M\n",
        "    adata.uns['_vega']['TFs'] = list(tfs) + ['UNANNOTATED_'+str(k) for k in range(add_nodes)]\n",
        "\n",
        "    return adata, M"
      ],
      "metadata": {
        "id": "Faud-u0jbmbr"
      },
      "execution_count": 55,
      "outputs": []
    },
    {
      "cell_type": "code",
      "source": [
        "# apply the create_mask function\n",
        "PBMC_control, mask_ctr = create_mask(PBMC_control,regulons , add_nodes=1)\n",
        "PBMC_stimulated, mask_sti  = create_mask(PBMC_stimulated,regulons , add_nodes=1)"
      ],
      "metadata": {
        "id": "TsxFGGd1Yo-J"
      },
      "execution_count": 56,
      "outputs": []
    },
    {
      "cell_type": "code",
      "source": [
        "mask_ctr.shape"
      ],
      "metadata": {
        "colab": {
          "base_uri": "https://localhost:8080/"
        },
        "id": "xUZgw8DhfFNV",
        "outputId": "34f8886e-ee99-4c3a-9f42-853e6d689049"
      },
      "execution_count": 58,
      "outputs": [
        {
          "output_type": "execute_result",
          "data": {
            "text/plain": [
              "(6627, 21)"
            ]
          },
          "metadata": {},
          "execution_count": 58
        }
      ]
    },
    {
      "cell_type": "markdown",
      "source": [
        "## 4: Decoder\n"
      ],
      "metadata": {
        "id": "JugSSfONfRWV"
      }
    },
    {
      "cell_type": "code",
      "source": [
        "# filter the genes in mask\n",
        "genes_mask = np.array(regulons.target.unique()) # genes in regulons list\n",
        "pbmc_genes = np.array(PBMC_train.var_names)# genes in OUR data\n",
        "# Create boolean mask of which genes are in PBMC_train\n",
        "keep = np.isin(genes_mask, pbmc_genes)\n",
        "# Apply the filter\n",
        "filtered_mask_ctr = mask_ctr[keep, :]\n",
        "filtered_mask_sti = mask_sti[keep, :]"
      ],
      "metadata": {
        "id": "x3zK1TAcfVn5"
      },
      "execution_count": 59,
      "outputs": []
    },
    {
      "cell_type": "code",
      "source": [
        "filtered_mask_ctr.shape #2k genes, 11 (10 + 1)"
      ],
      "metadata": {
        "colab": {
          "base_uri": "https://localhost:8080/"
        },
        "id": "xwsNA6LsivcR",
        "outputId": "bebb2a38-a90e-486e-eb30-4f8c3d98f1e6"
      },
      "execution_count": 60,
      "outputs": [
        {
          "output_type": "execute_result",
          "data": {
            "text/plain": [
              "(2168, 21)"
            ]
          },
          "metadata": {},
          "execution_count": 60
        }
      ]
    },
    {
      "cell_type": "code",
      "source": [
        "# filter the genes in PBMC data\n",
        "\n",
        "gene_keep = genes_mask[keep]\n",
        "PBMC_control_filtered = PBMC_control[:, PBMC_control.var_names.isin(gene_keep)].copy()\n"
      ],
      "metadata": {
        "id": "3iPHZ9Hnk_5a"
      },
      "execution_count": 61,
      "outputs": []
    },
    {
      "cell_type": "code",
      "source": [
        "PBMC_control_filtered # 2k genes"
      ],
      "metadata": {
        "colab": {
          "base_uri": "https://localhost:8080/"
        },
        "id": "tYKnoOGCl_IQ",
        "outputId": "23f9c939-e30b-4196-cf2a-0737b909e981"
      },
      "execution_count": 62,
      "outputs": [
        {
          "output_type": "execute_result",
          "data": {
            "text/plain": [
              "AnnData object with n_obs × n_vars = 6406 × 2168\n",
              "    obs: 'condition', 'n_counts', 'n_genes', 'mt_frac', 'cell_type'\n",
              "    var: 'gene_symbol', 'n_cells'\n",
              "    uns: 'cell_type_colors', 'condition_colors', 'neighbors', '_vega'\n",
              "    obsm: 'X_pca', 'X_tsne', 'X_umap'\n",
              "    obsp: 'connectivities', 'distances'"
            ]
          },
          "metadata": {},
          "execution_count": 62
        }
      ]
    },
    {
      "cell_type": "code",
      "source": [
        "# define VEGA's decoder\n",
        "\n",
        "class DecoderVEGA(nn.Module):\n",
        "  \"\"\"\n",
        "  Define VEGA's decoder (sparse, one-layer, linear, positive)\n",
        "  \"\"\"\n",
        "  def __init__(self,mask):\n",
        "        super(DecoderVEGA, self).__init__()\n",
        "\n",
        "        self.sparse_layer = nn.Sequential(SparseLayer(mask)) # we define the architecture of the decoder below with the class \"SparseLayer\"\n",
        "        # This decoder only has 1 layer (Sparse)!!!\n",
        "\n",
        "  def forward(self, x):\n",
        "    z = self.sparse_layer(x.to(device))\n",
        "    return(z)\n",
        "\n",
        "# define a class SparseLayer, that specifies the decoder architecture (sparse connections based on the mask)\n",
        "class SparseLayer(nn.Module):\n",
        "  def __init__(self, mask):\n",
        "        \"\"\"\n",
        "        Extended torch.nn module which mask connection\n",
        "        \"\"\"\n",
        "        super(SparseLayer, self).__init__()\n",
        "\n",
        "        self.mask = nn.Parameter(torch.tensor(mask, dtype=torch.float).t(), requires_grad=False)\n",
        "        self.weight = nn.Parameter(torch.Tensor(mask.shape[1], mask.shape[0]))\n",
        "        self.bias = nn.Parameter(torch.Tensor(mask.shape[1]))\n",
        "        self.reset_parameters()\n",
        "\n",
        "        # mask weight\n",
        "        self.weight.data = self.weight.data * self.mask\n",
        "\n",
        "  def reset_parameters(self):\n",
        "        stdv = 1. / math.sqrt(self.weight.size(1))\n",
        "        self.weight.data.uniform_(-stdv, stdv)\n",
        "        self.bias.data.uniform_(-stdv, stdv)\n",
        "\n",
        "  def forward(self, input):\n",
        "        # See the autograd section for explanation of what happens here\n",
        "        return SparseLayerFunction.apply(input, self.weight, self.bias, self.mask)\n",
        "        # OUTPUT of the decoder\n",
        "\n",
        "\n",
        "######### You don't need to understand this part of the code in detail #########\n",
        "\n",
        "# defines a custom forward and backward pass\n",
        "class SparseLayerFunction(torch.autograd.Function):\n",
        "    \"\"\"\n",
        "    We define our own autograd function which masks it's weights by 'mask'.\n",
        "    For more details, see https://pytorch.org/docs/stable/notes/extending.html\n",
        "    \"\"\"\n",
        "\n",
        "    # Note that both forward and backward are @staticmethods\n",
        "    @staticmethod\n",
        "    def forward(ctx, input, weight, bias, mask):\n",
        "        # enforce the forward connection between latent and next layer to be sparse\n",
        "        weight = weight * mask # change weight to 0 where mask == 0\n",
        "        #calculate the output\n",
        "        output = input.mm(weight.t()) # output = input × weight.T  (torch.mm : matrix multiplication)\n",
        "        # input = latent: has the dim (batch_size, latent_dim)\n",
        "        #-> mask has the dim: (input_dim, latent_dim) -> transpose (latent_dim, input_dim) (input here this the original input, not the latent vector)\n",
        "        # output: (batch_size, input_dim)  = same dimension with OUR input\n",
        "        output += bias.unsqueeze(0).expand_as(output) # Add bias to all values in output\n",
        "        ctx.save_for_backward(input, weight, bias, mask)\n",
        "        return output\n",
        "\n",
        "    @staticmethod\n",
        "    def backward(ctx, grad_output): # define the gradient formula\n",
        "        # compute gradient for backpropagation\n",
        "        input, weight, bias, mask = ctx.saved_tensors\n",
        "        grad_input = grad_weight = grad_bias = grad_mask = None\n",
        "\n",
        "        # These needs_input_grad checks are optional and only to improve efficiency\n",
        "        if ctx.needs_input_grad[0]:\n",
        "            grad_input = grad_output.mm(weight)\n",
        "            # grad_input: how the loss changes with respect to the input\n",
        "        if ctx.needs_input_grad[1]:\n",
        "            grad_weight = grad_output.t().mm(input) # how the loss changes with respect to weight\n",
        "            grad_weight = grad_weight * mask # change grad_weight to 0 where mask == 0  (enforce the mask even in backward pass)\n",
        "        if ctx.needs_input_grad[2]:\n",
        "            grad_bias = grad_output.sum(0).squeeze(0)\n",
        "\n",
        "        return grad_input, grad_weight, grad_bias, grad_mask\n"
      ],
      "metadata": {
        "id": "rXV5F3YHjF-R"
      },
      "execution_count": 16,
      "outputs": []
    },
    {
      "cell_type": "markdown",
      "source": [
        "## 4: Combine encoder and decoder"
      ],
      "metadata": {
        "id": "HOEhaeMEjM-q"
      }
    },
    {
      "cell_type": "code",
      "source": [
        "# define class that combine encoder and decoder\n",
        "class VEGA(nn.Module):\n",
        "    def __init__(self, latent_dims, input_dims, mask, dropout = 0.3, z_dropout = 0.3):\n",
        "        super(VEGA, self).__init__()\n",
        "        self.encoder = Encoder(latent_dims, input_dims, dropout, z_dropout) # we use the same encoder as before (two-layer, fully connected, non-linear)\n",
        "        self.decoder = DecoderVEGA(mask)\n",
        "\n",
        "    def forward(self, x):\n",
        "        z = self.encoder(x)\n",
        "        return self.decoder(z)"
      ],
      "metadata": {
        "id": "t4uQC1fhjKoN"
      },
      "execution_count": 17,
      "outputs": []
    },
    {
      "cell_type": "code",
      "source": [
        "#training loop\n",
        "def trainVEGA(vae, data, epochs=50, beta = 0.0001, learning_rate = 0.01):\n",
        "    opt = torch.optim.Adam(vae.parameters(), lr = learning_rate, weight_decay = 5e-4)\n",
        "    vae.train() #train mode\n",
        "    losses = []\n",
        "    klds = []\n",
        "    mses = []\n",
        "\n",
        "    for epoch in range(epochs):\n",
        "        loss_e = 0\n",
        "        kld_e = 0\n",
        "        mse_e = 0\n",
        "\n",
        "        for x in data:\n",
        "            x = x.to(device)\n",
        "            opt.zero_grad()\n",
        "            x_hat = vae(x)\n",
        "            mse = ((x - x_hat)**2).sum()\n",
        "            kld = beta* vae.encoder.kl\n",
        "            loss = mse +  kld # loss calculation\n",
        "            loss.backward()\n",
        "            opt.step()\n",
        "            loss_e += loss.to('cpu').detach().numpy()\n",
        "            kld_e += kld.to('cpu').detach().numpy()\n",
        "            mse_e += mse.to('cpu').detach().numpy()\n",
        "\n",
        "        losses.append(loss_e/(len(data)*128))\n",
        "        klds.append(kld_e/(len(data)*128))\n",
        "        mses.append(mse_e/(len(data)*128))\n",
        "\n",
        "        print(\"epoch: \", epoch, \" loss: \", loss_e/(len(data)*128))\n",
        "\n",
        "    return vae, losses, klds, mses"
      ],
      "metadata": {
        "id": "7sRldAVXjSKZ"
      },
      "execution_count": 18,
      "outputs": []
    },
    {
      "cell_type": "code",
      "source": [
        "# train the model for control\n",
        "PBMC_controlX = torch.utils.data.DataLoader(PBMC_control_filtered.X.toarray(), batch_size=128) #set up the training data in the right format\n",
        "PBMC_stimulatedX = torch.utils.data.DataLoader(PBMC_stimulated.X.toarray(), batch_size=128) #set up the training data in the right format\n",
        "\n"
      ],
      "metadata": {
        "id": "gExBaoxajeZV"
      },
      "execution_count": 19,
      "outputs": []
    },
    {
      "cell_type": "code",
      "source": [
        "import torch\n",
        "\n",
        "# NOTE: In Runtime, Change type (hardware accelerator) -> GPU\n",
        "device = torch.device(\"cuda\" if torch.cuda.is_available() else \"cpu\")\n",
        "print(device)"
      ],
      "metadata": {
        "colab": {
          "base_uri": "https://localhost:8080/"
        },
        "id": "BnWMkHFajp0M",
        "outputId": "bb575217-eb69-4b39-ae4d-b6a72a918235"
      },
      "execution_count": 20,
      "outputs": [
        {
          "output_type": "stream",
          "name": "stdout",
          "text": [
            "cuda\n"
          ]
        }
      ]
    },
    {
      "cell_type": "code",
      "source": [
        "# train the model for control\n",
        "vega_ctr = VEGA(latent_dims= filtered_mask_ctr.shape[1], input_dims = filtered_mask_ctr.shape[0], mask = filtered_mask_ctr.T, z_dropout = 0.1, dropout = 0.1).to(device) # input_dim should be the\n",
        "\n",
        "# latent_dims should be number of TFs\n",
        "# input dims = PBMC_train.shape[1]??\n",
        "# model training\n",
        "vega_ctr, vega_losses_ctr, vega_klds_ctr, vega_mses_ctr = trainVEGA(vega_ctr, PBMC_controlX,epochs = 50, beta = 0.00001) #takes about 2 mins on GPU # change beta!!!\n",
        "# gotta change dropout rate as well otherwise its too instable"
      ],
      "metadata": {
        "colab": {
          "base_uri": "https://localhost:8080/"
        },
        "id": "znxF12GajTG0",
        "outputId": "5ae9ae29-b81c-45b2-9b58-88a4cc08ff1d"
      },
      "execution_count": 21,
      "outputs": [
        {
          "output_type": "stream",
          "name": "stdout",
          "text": [
            "epoch:  0  loss:  433.24667\n",
            "epoch:  1  loss:  163.58328\n",
            "epoch:  2  loss:  141.50664\n",
            "epoch:  3  loss:  128.53857\n",
            "epoch:  4  loss:  121.19277\n",
            "epoch:  5  loss:  115.87024\n",
            "epoch:  6  loss:  112.26338\n",
            "epoch:  7  loss:  110.38129\n",
            "epoch:  8  loss:  109.211914\n",
            "epoch:  9  loss:  108.51705\n",
            "epoch:  10  loss:  107.93967\n",
            "epoch:  11  loss:  107.04361\n",
            "epoch:  12  loss:  104.58781\n",
            "epoch:  13  loss:  100.82838\n",
            "epoch:  14  loss:  95.8652\n",
            "epoch:  15  loss:  92.58045\n",
            "epoch:  16  loss:  90.74203\n",
            "epoch:  17  loss:  91.42199\n",
            "epoch:  18  loss:  90.08071\n",
            "epoch:  19  loss:  90.44006\n",
            "epoch:  20  loss:  89.65749\n",
            "epoch:  21  loss:  89.32742\n",
            "epoch:  22  loss:  89.26834\n",
            "epoch:  23  loss:  88.986694\n",
            "epoch:  24  loss:  88.668304\n",
            "epoch:  25  loss:  88.80409\n",
            "epoch:  26  loss:  89.12144\n",
            "epoch:  27  loss:  88.844055\n",
            "epoch:  28  loss:  88.79386\n",
            "epoch:  29  loss:  88.50224\n",
            "epoch:  30  loss:  88.6647\n",
            "epoch:  31  loss:  89.082596\n",
            "epoch:  32  loss:  88.57156\n",
            "epoch:  33  loss:  88.52877\n",
            "epoch:  34  loss:  88.41241\n",
            "epoch:  35  loss:  88.87863\n",
            "epoch:  36  loss:  88.81301\n",
            "epoch:  37  loss:  88.08662\n",
            "epoch:  38  loss:  88.88454\n",
            "epoch:  39  loss:  88.388336\n",
            "epoch:  40  loss:  88.245865\n",
            "epoch:  41  loss:  88.16006\n",
            "epoch:  42  loss:  88.66732\n",
            "epoch:  43  loss:  88.65599\n",
            "epoch:  44  loss:  88.17166\n",
            "epoch:  45  loss:  88.56236\n",
            "epoch:  46  loss:  88.23427\n",
            "epoch:  47  loss:  88.492386\n",
            "epoch:  48  loss:  88.30038\n",
            "epoch:  49  loss:  88.93555\n"
          ]
        }
      ]
    },
    {
      "cell_type": "code",
      "source": [],
      "metadata": {
        "id": "m6FDxXdfDwEh"
      },
      "execution_count": null,
      "outputs": []
    },
    {
      "cell_type": "markdown",
      "source": [
        "Bug fix: mat1xmat2 dimensions (mask have 6k7 genes. our data have 6k9 genes -> at some point they will not be compatible)\n",
        "-> How to fix it:\n",
        "\n",
        "1. For the mask: which gene in the in the regulon list is in OUR data (for now: around 2k genes)\n",
        "Only keep those 2k genes for the PBMC as well !!\n",
        "\n",
        "2. Plus, choose only around 10 TFs so that training faster."
      ],
      "metadata": {
        "id": "Bpy4LSMktFcQ"
      }
    },
    {
      "cell_type": "markdown",
      "source": [
        "### Objectives/Workflow\n",
        "\n",
        "1. Base models -> the weights between TF and target genes might indicate a rewiring of the TF in different biological condition\n",
        "- Look into the weights -> compare between 2 conditions\n",
        "2. How should we design our workflow? To research certainty/confidence of a TFs\n",
        "- train the models many times... -> each time save the weights??\n"
      ],
      "metadata": {
        "id": "SsL1MD16B4Gi"
      }
    },
    {
      "cell_type": "markdown",
      "source": [
        "## Inspecting the weights"
      ],
      "metadata": {
        "id": "2LOIup0OEXKt"
      }
    },
    {
      "cell_type": "code",
      "source": [
        "# Looking at the weight of the model\n",
        "vega_ctr.state_dict()"
      ],
      "metadata": {
        "colab": {
          "base_uri": "https://localhost:8080/"
        },
        "id": "MvuogP4OB3lo",
        "outputId": "34be613d-065f-48fa-ddeb-381c0bc2e1ac"
      },
      "execution_count": 22,
      "outputs": [
        {
          "output_type": "execute_result",
          "data": {
            "text/plain": [
              "OrderedDict([('encoder.encoder.0.weight',\n",
              "              tensor([[-7.4095e-02, -4.3580e-02, -5.6828e-02,  ..., -3.4972e-41,\n",
              "                       -3.4523e-02, -3.4493e-14],\n",
              "                      [-7.5460e-02, -6.0366e-02, -3.7314e-02,  ...,  1.0775e-41,\n",
              "                        5.7428e-06, -6.3267e-41],\n",
              "                      [-4.2575e-02, -7.6334e-02, -7.2494e-02,  ..., -3.2132e-38,\n",
              "                       -4.4508e-02,  8.4009e-18],\n",
              "                      ...,\n",
              "                      [-5.8635e-02, -7.8457e-02, -9.0998e-02,  ..., -5.9923e-02,\n",
              "                       -6.1919e-02, -7.6358e-02],\n",
              "                      [-8.2209e-02, -5.9989e-02, -7.0621e-02,  ..., -6.0746e-02,\n",
              "                       -2.6812e-02, -8.4924e-02],\n",
              "                      [-2.6365e-02, -5.2572e-02, -5.8429e-02,  ..., -5.8968e-02,\n",
              "                        5.7059e-02, -5.5566e-02]], device='cuda:0')),\n",
              "             ('encoder.encoder.0.bias',\n",
              "              tensor([-0.0485, -0.0400, -0.0425, -0.1186, -0.0588, -0.0748, -0.0623, -0.0740,\n",
              "                      -0.0536, -0.0638, -0.0555, -0.0762, -0.0535, -0.1419, -0.0853, -0.0445,\n",
              "                      -0.0930, -0.1417, -0.0537, -0.0864, -0.0759, -0.0600, -0.0437, -0.0655,\n",
              "                      -0.0768, -0.0789, -0.0613, -0.0820, -0.0459, -0.0653, -0.0516, -0.0428,\n",
              "                      -0.0614, -0.0757, -0.0440, -0.0555, -0.0791, -0.0603, -0.0419, -0.0622,\n",
              "                      -0.0645, -0.0521, -0.0701, -0.0738, -0.0418,  0.0119, -0.0752, -0.0795,\n",
              "                      -0.0507, -0.0302, -0.0388, -0.0326, -0.0353, -0.0526, -0.0574, -0.0598,\n",
              "                      -0.0442, -0.1510, -0.0548, -0.0529, -0.0853, -0.0522, -0.0580, -0.0678,\n",
              "                      -0.0694, -0.0804, -0.0834, -0.0485, -0.0885, -0.0760, -0.0764, -0.0645,\n",
              "                      -0.0760, -0.0538, -0.0759, -0.0540, -0.0829, -0.0423, -0.0719, -0.0348,\n",
              "                      -0.0869, -0.0562, -0.0613, -0.0665, -0.0687, -0.0789, -0.0869, -0.0740,\n",
              "                      -0.0593, -0.0434, -0.0549, -0.0471, -0.0650, -0.0784, -0.0323, -0.0445,\n",
              "                      -0.0429, -0.1504, -0.0646, -0.0675, -0.0678, -0.0547, -0.0761, -0.0431,\n",
              "                      -0.0624, -0.0626, -0.0743, -0.0733, -0.0780, -0.0549, -0.0549, -0.0596,\n",
              "                      -0.1496, -0.0480, -0.0625, -0.0576, -0.0463, -0.1097, -0.0471, -0.0156,\n",
              "                      -0.0647, -0.0499, -0.0318, -0.0691, -0.0651, -0.0589, -0.0564, -0.0520,\n",
              "                      -0.0476, -0.1308, -0.0479, -0.0379, -0.0679, -0.0472, -0.0837, -0.0435,\n",
              "                      -0.0464, -0.0740, -0.0408, -0.0833, -0.0481, -0.0879, -0.0690, -0.0763,\n",
              "                       0.0783, -0.0723, -0.0605, -0.0706, -0.0744, -0.0635, -0.0754, -0.0577,\n",
              "                      -0.1279, -0.0608, -0.1783, -0.0378, -0.0801, -0.0474, -0.0522, -0.0718,\n",
              "                      -0.0455, -0.0564, -0.0454, -0.0614, -0.0687, -0.0444, -0.0541,  0.0077,\n",
              "                      -0.0586, -0.1571, -0.0767, -0.0121, -0.0809, -0.0311, -0.0542, -0.0453,\n",
              "                      -0.0590, -0.0575, -0.0320, -0.0652, -0.0609, -0.0394, -0.0440, -0.0737,\n",
              "                      -0.0135, -0.0733, -0.0476, -0.0870, -0.1383, -0.0578, -0.0403, -0.1263,\n",
              "                      -0.0443, -0.0723, -0.0639, -0.0595, -0.1229, -0.0608, -0.0533, -0.0714,\n",
              "                      -0.1172, -0.0553, -0.0720, -0.0620, -0.0683, -0.0785, -0.0754, -0.0588,\n",
              "                      -0.1163, -0.0631, -0.0531, -0.0803, -0.0554, -0.0724, -0.0676, -0.0728,\n",
              "                      -0.0808, -0.0676, -0.0674, -0.0645, -0.0665, -0.0555, -0.0668, -0.0509,\n",
              "                      -0.0479, -0.1372, -0.0864, -0.0684, -0.0433, -0.0627, -0.1484, -0.0530,\n",
              "                      -0.1491, -0.0678, -0.0646, -0.0510, -0.0556, -0.0560, -0.0566, -0.0750,\n",
              "                      -0.0307, -0.0468, -0.0616, -0.1424, -0.0860, -0.0633, -0.0337, -0.0808,\n",
              "                      -0.0635, -0.1391, -0.0437, -0.0382, -0.1049, -0.0766, -0.0402, -0.0621,\n",
              "                      -0.0778, -0.0111, -0.0742, -0.0689, -0.0746, -0.0690, -0.0436, -0.0776,\n",
              "                      -0.0507, -0.0758, -0.0684, -0.0275, -0.1277, -0.0491, -0.0686, -0.0560,\n",
              "                      -0.0431, -0.0488, -0.0504, -0.0509, -0.0513, -0.0262, -0.0486, -0.1061,\n",
              "                      -0.0711, -0.0442, -0.0549, -0.0395, -0.0247, -0.0508, -0.1086, -0.0468,\n",
              "                      -0.0448, -0.0572, -0.0344, -0.0560, -0.0603, -0.0564, -0.0720, -0.0497,\n",
              "                      -0.0505, -0.0564, -0.0710, -0.0843, -0.0622, -0.0549, -0.0432, -0.0282,\n",
              "                      -0.0769, -0.0830, -0.0858, -0.0356, -0.0454, -0.0513, -0.0782, -0.0465,\n",
              "                      -0.0672, -0.0685, -0.0631, -0.0640, -0.0638, -0.0322, -0.0392, -0.0481,\n",
              "                      -0.0397, -0.1362, -0.0421, -0.0245, -0.0866, -0.0578, -0.0788, -0.0737,\n",
              "                      -0.0658, -0.0800, -0.0616, -0.0711, -0.0583, -0.0471, -0.0518, -0.0606,\n",
              "                      -0.0558, -0.0828, -0.0693, -0.0485, -0.0545, -0.0426, -0.0769, -0.0689,\n",
              "                      -0.0357, -0.0796, -0.0473, -0.0626, -0.0536, -0.0534, -0.0764, -0.0759,\n",
              "                      -0.0519, -0.0887, -0.1342, -0.0454, -0.0475, -0.0686, -0.0725, -0.0675,\n",
              "                      -0.0499, -0.0522, -0.0395, -0.0580, -0.0496, -0.0623, -0.0622, -0.0674,\n",
              "                      -0.0664, -0.0491, -0.0515, -0.0573, -0.0349, -0.0541, -0.0412, -0.1122,\n",
              "                      -0.0593, -0.0713, -0.1416, -0.0648, -0.0719, -0.0566, -0.0607, -0.0822,\n",
              "                      -0.0800, -0.0521, -0.0543, -0.0651, -0.0731, -0.1306, -0.0260, -0.0461,\n",
              "                      -0.0694, -0.0663, -0.0388, -0.0645, -0.0386, -0.1199, -0.0455, -0.0840,\n",
              "                      -0.0381, -0.0427, -0.0503, -0.0865, -0.0256, -0.0719, -0.0583, -0.0831,\n",
              "                      -0.0611, -0.0850, -0.0608, -0.0552, -0.0527, -0.0572, -0.0909, -0.0473,\n",
              "                      -0.0265, -0.0343, -0.0413, -0.0805,  0.1121, -0.0729, -0.1312, -0.0767,\n",
              "                      -0.0466, -0.0494, -0.0615, -0.0420, -0.0729, -0.0372, -0.0540, -0.0640,\n",
              "                      -0.0510, -0.0451, -0.0555, -0.0768, -0.0811, -0.0572, -0.0557, -0.0501,\n",
              "                      -0.0590, -0.0467, -0.0314, -0.0502, -0.0672, -0.0613, -0.0454, -0.0674,\n",
              "                      -0.0770, -0.0641, -0.0560, -0.1172, -0.1458, -0.0663, -0.0625, -0.0611,\n",
              "                      -0.0451, -0.0451, -0.0804, -0.0307, -0.0695, -0.0463, -0.0615, -0.0734,\n",
              "                      -0.0847, -0.0763, -0.0508, -0.1327, -0.0401, -0.0490, -0.0694, -0.0539,\n",
              "                      -0.0610, -0.0555, -0.0542, -0.0580, -0.0664, -0.0691, -0.0495, -0.0498,\n",
              "                      -0.0851, -0.1459, -0.0442, -0.0550, -0.0660, -0.0558, -0.0560, -0.0625,\n",
              "                      -0.0569, -0.1144, -0.0486, -0.0646, -0.0773, -0.0350, -0.0788, -0.0484,\n",
              "                      -0.0418, -0.0437, -0.0871, -0.0803, -0.0526, -0.0488, -0.0787, -0.0559,\n",
              "                      -0.0465, -0.1418, -0.0847, -0.0761, -0.0400, -0.0646, -0.0447, -0.0585,\n",
              "                      -0.0350, -0.1435, -0.0390, -0.0748, -0.0719, -0.0493, -0.1217, -0.0646,\n",
              "                      -0.1322, -0.0807, -0.0526, -0.0400, -0.0701, -0.0625, -0.0729, -0.0332,\n",
              "                      -0.0709, -0.1526, -0.0690, -0.0370, -0.0456, -0.0800, -0.0851, -0.0364,\n",
              "                      -0.1189, -0.0755, -0.1427, -0.1139, -0.0491, -0.0703, -0.0561, -0.0415,\n",
              "                      -0.0523, -0.0549, -0.0589, -0.0629, -0.0510, -0.0649, -0.0561, -0.0736,\n",
              "                      -0.0545, -0.0483, -0.0714, -0.0574, -0.0511, -0.1112, -0.0454, -0.0562,\n",
              "                      -0.0528, -0.0525, -0.0575, -0.0452, -0.0701, -0.0427, -0.0747, -0.1378,\n",
              "                      -0.0491, -0.0472, -0.0656, -0.0548, -0.3139, -0.0478,  0.1797, -0.0322,\n",
              "                      -0.0487, -0.0559, -0.0732, -0.0570, -0.0710, -0.0396, -0.0544, -0.1459,\n",
              "                      -0.0486, -0.0598, -0.0805, -0.0808, -0.0478, -0.0860, -0.0548, -0.0738,\n",
              "                      -0.1066, -0.0423, -0.0588, -0.0682, -0.1294, -0.0463, -0.0732, -0.0599,\n",
              "                      -0.0467, -0.0579, -0.0702, -0.0651, -0.0674, -0.0546, -0.0404, -0.0683,\n",
              "                      -0.0464, -0.0487, -0.0234, -0.0728, -0.0774, -0.0753, -0.0697, -0.1525,\n",
              "                      -0.0435, -0.0418, -0.0752, -0.0486, -0.0606, -0.0481, -0.1326, -0.0695,\n",
              "                      -0.0423, -0.0596, -0.0344, -0.0620, -0.0772, -0.1361, -0.0650, -0.0695,\n",
              "                      -0.0588, -0.0614, -0.0554, -0.0568, -0.0523, -0.0382, -0.0380, -0.0527,\n",
              "                      -0.0848, -0.0544, -0.0549, -0.0684, -0.0677, -0.0626, -0.0521, -0.0500,\n",
              "                      -0.0471, -0.0335, -0.0803, -0.0451, -0.0560, -0.0446, -0.0730, -0.0860,\n",
              "                      -0.0712, -0.1099, -0.0849, -0.0275, -0.0360, -0.0781, -0.0398, -0.1445,\n",
              "                      -0.1388, -0.0771, -0.0521, -0.0748, -0.0581, -0.0539, -0.0412, -0.0700,\n",
              "                      -0.0612, -0.0890, -0.0580, -0.0820, -0.0618, -0.0296, -0.0780, -0.0397,\n",
              "                      -0.1436, -0.0868, -0.0721, -0.0669, -0.0533, -0.0558, -0.0860, -0.0522,\n",
              "                      -0.0445, -0.0539, -0.0646, -0.0461, -0.0504, -0.0480, -0.0665, -0.0442,\n",
              "                      -0.0647, -0.0770, -0.0286, -0.0457, -0.0673, -0.0576, -0.1347, -0.0533,\n",
              "                      -0.1256, -0.0432, -0.0658, -0.0315, -0.1118, -0.0545, -0.0826, -0.1511,\n",
              "                      -0.0557, -0.0551, -0.0414, -0.0585, -0.1325, -0.0609, -0.0723, -0.0409,\n",
              "                      -0.0408, -0.0456, -0.0393, -0.0665, -0.1438, -0.0651, -0.0542, -0.0363,\n",
              "                      -0.0765, -0.0284, -0.0668, -0.0243, -0.0677, -0.0510, -0.0729, -0.0519,\n",
              "                      -0.0580, -0.0644, -0.0526, -0.0709, -0.0552, -0.0456, -0.0529, -0.0421,\n",
              "                      -0.0667, -0.0623, -0.1200, -0.0772, -0.0555, -0.0464, -0.0526, -0.0386,\n",
              "                      -0.0662, -0.0852, -0.0696, -0.0598, -0.1262, -0.0403, -0.0566, -0.0795,\n",
              "                      -0.0569, -0.1241, -0.0368, -0.0570, -0.0664, -0.0700, -0.0449, -0.1151,\n",
              "                      -0.0716, -0.0730, -0.0511, -0.0284, -0.0622, -0.0686, -0.0438, -0.0465,\n",
              "                      -0.0350, -0.0387, -0.0474, -0.0696, -0.0640, -0.1225, -0.0824, -0.0482,\n",
              "                      -0.0332, -0.0786, -0.0684, -0.0494, -0.0707, -0.0522, -0.0541, -0.0824,\n",
              "                      -0.0741, -0.0460, -0.0789, -0.0574, -0.0632, -0.0792, -0.0526, -0.0428],\n",
              "                     device='cuda:0')),\n",
              "             ('encoder.encoder.3.weight',\n",
              "              tensor([[ 7.3650e-02,  5.2990e-02,  4.5894e-02,  ..., -7.7594e-02,\n",
              "                       -3.0502e-02, -6.6263e-02],\n",
              "                      [ 7.3106e-02,  4.9048e-02,  2.9670e-02,  ..., -3.0161e-02,\n",
              "                       -5.7764e-02, -8.0227e-02],\n",
              "                      [-2.6990e-02, -7.4309e-02, -7.4514e-02,  ..., -5.3833e-02,\n",
              "                       -5.0641e-02, -7.0013e-04],\n",
              "                      ...,\n",
              "                      [ 7.9526e-02,  5.7801e-02,  8.8316e-02,  ..., -8.0837e-03,\n",
              "                       -4.4642e-02, -4.4591e-02],\n",
              "                      [-2.2152e-02, -3.5315e-02, -3.2491e-02,  ..., -4.8088e-02,\n",
              "                       -7.0219e-02,  9.8301e-42],\n",
              "                      [-4.5549e-02, -3.5477e-02, -4.5896e-02,  ..., -5.8171e-02,\n",
              "                       -3.0748e-02, -9.8273e-42]], device='cuda:0')),\n",
              "             ('encoder.encoder.3.bias',\n",
              "              tensor([-6.7664e-02,  3.8531e-01, -1.1896e-01,  1.9909e-01, -1.1642e-01,\n",
              "                      -3.2490e-02, -6.1000e-02, -3.4991e-02, -5.1705e-02, -9.9922e-02,\n",
              "                      -1.2697e-02, -7.2709e-02, -2.4955e-02, -8.0422e-02, -3.1557e-02,\n",
              "                       2.7695e-01, -5.6094e-03, -4.2330e-02, -2.6997e-02, -7.8858e-02,\n",
              "                      -4.7089e-02,  5.6992e-01,  4.0258e-01, -6.3158e-02, -8.7067e-02,\n",
              "                       3.5115e-01, -7.6602e-02,  2.3363e-01, -1.0124e-02, -3.7779e-02,\n",
              "                      -1.1365e-01, -1.8901e-01, -5.0879e-02, -6.0409e-02, -5.1371e-02,\n",
              "                      -1.0842e-01, -6.3023e-02, -2.1343e-01,  4.3679e-01, -6.0921e-02,\n",
              "                      -6.6339e-02, -5.1066e-02, -2.2934e-02, -4.8368e-02,  1.9355e-01,\n",
              "                      -8.0386e-02, -1.1138e-01, -4.6894e-02, -5.4337e-02, -7.1855e-02,\n",
              "                      -4.4360e-02, -7.0890e-02,  2.4171e-01, -7.5652e-02, -7.9132e-02,\n",
              "                      -4.3595e-02, -8.7145e-02,  2.4721e-01, -4.9978e-02, -7.2923e-02,\n",
              "                       3.3925e-01,  6.2673e-01, -6.9935e-02,  1.7743e-01,  2.3041e-01,\n",
              "                      -1.2580e-01, -6.4398e-02, -6.3969e-02, -8.1741e-02, -5.8702e-02,\n",
              "                      -6.6602e-02, -1.6503e-02,  2.4768e-01,  1.5207e-01,  4.2338e-01,\n",
              "                      -4.3296e-02, -2.0145e-02, -1.4903e-02, -1.1467e-01, -5.7981e-02,\n",
              "                      -8.1756e-02,  2.3074e-01, -7.5150e-02, -5.6748e-02, -4.2440e-02,\n",
              "                      -8.2448e-02,  5.1159e-01, -3.4323e-03, -6.4281e-02, -4.2712e-02,\n",
              "                       1.3559e-01, -7.2213e-02, -1.6654e-02, -3.4861e-02, -8.2828e-02,\n",
              "                      -1.4617e-01, -1.5742e-01, -2.8400e-02,  2.4468e-01, -3.3929e-02,\n",
              "                       6.6691e-02, -9.0333e-02,  2.4554e-01, -5.6747e-02, -5.1496e-02,\n",
              "                      -8.1434e-02, -1.7042e-03, -1.4611e-01, -3.1596e-02, -2.2303e-02,\n",
              "                      -2.2291e-02, -5.1737e-02, -5.7462e-02, -8.7386e-02, -2.9104e-01,\n",
              "                      -4.5300e-02, -1.3120e-01,  1.3410e-01,  1.4034e-01, -8.5503e-02,\n",
              "                      -2.9984e-02, -9.4493e-02, -4.0299e-02, -1.5504e-02, -6.5093e-02,\n",
              "                      -1.9829e-02, -2.9375e-02, -5.8924e-02, -8.6257e-02,  4.2908e-01,\n",
              "                      -1.3347e-02, -5.9340e-02,  2.1707e-01, -1.2675e-02, -3.1473e-02,\n",
              "                      -4.3805e-02, -3.3468e-02, -4.5242e-02, -3.0714e-02, -9.2980e-02,\n",
              "                      -2.7560e-03, -5.0075e-02, -5.8610e-02, -7.6856e-02, -5.7899e-02,\n",
              "                      -4.8367e-02,  2.6082e-01, -3.6967e-02, -5.7185e-01, -2.7718e-02,\n",
              "                      -6.0382e-02, -5.9807e-02, -5.9060e-02,  4.3315e-02, -3.2763e-02,\n",
              "                      -8.9852e-02,  3.6601e-01, -6.7266e-02, -2.5483e-02, -5.2150e-02,\n",
              "                      -1.0486e-01, -9.4055e-02, -8.1849e-02, -1.9474e-01, -2.6839e-02,\n",
              "                      -7.2270e-02,  4.5402e-01,  2.0858e-01, -1.0914e-01,  2.9093e-01,\n",
              "                      -1.3748e-02, -9.0280e-02, -3.2342e-02, -8.1963e-02,  4.0786e-01,\n",
              "                      -1.4124e-01, -8.5577e-02, -5.2156e-03, -3.8333e-02, -1.0525e-01,\n",
              "                       2.4028e-01, -5.3503e-02, -6.3396e-02, -8.2677e-02, -2.7362e-02,\n",
              "                      -6.1344e-02, -1.9353e-03, -8.8305e-02, -2.3880e-02, -1.2680e-02,\n",
              "                      -4.2363e-02, -4.3956e-03, -1.8369e-02, -6.8819e-02,  9.6410e-02,\n",
              "                      -4.3435e-02, -6.4356e-02, -2.1611e-03,  9.5211e-02, -4.8677e-02,\n",
              "                      -4.2055e-02, -6.8882e-02, -2.7487e-02, -2.2031e-02, -1.0389e-01,\n",
              "                      -7.4071e-02,  3.8199e-01,  2.8928e-01, -6.3931e-02, -7.7809e-02,\n",
              "                      -3.1376e-02,  2.2888e-01, -1.4856e-01, -2.4576e-01, -3.1355e-02,\n",
              "                       1.4001e-01, -8.1267e-02,  1.8981e-01, -5.9844e-02,  5.0677e-01,\n",
              "                      -4.7689e-02, -7.1474e-02, -8.6802e-03,  2.1949e-01, -3.6773e-02,\n",
              "                      -9.3129e-02, -4.4521e-02, -2.6860e-02, -1.1078e-01, -6.2381e-02,\n",
              "                      -7.3182e-02, -1.4734e-02, -5.8256e-02, -3.0484e-02, -8.7413e-02,\n",
              "                      -6.8569e-02, -9.2511e-02, -1.4995e-02, -6.6030e-02, -2.1844e-02,\n",
              "                       3.3090e-01, -1.1089e-01, -1.0737e-01, -1.1048e-01, -6.4988e-02,\n",
              "                      -6.5753e-02, -3.7029e-02,  4.3791e-01, -5.5282e-02, -8.1072e-02,\n",
              "                      -2.9059e-02,  2.5421e-01, -6.3600e-02, -8.9983e-02, -7.0585e-02,\n",
              "                      -1.4562e-01, -4.3476e-02, -4.0003e-02, -4.1568e-02, -6.8441e-02,\n",
              "                      -8.7498e-02, -4.1208e-02, -5.2616e-02,  2.7471e-01, -4.9145e-02,\n",
              "                      -5.5925e-02,  4.3446e-01, -1.1676e-01,  3.9226e-01, -6.7301e-02,\n",
              "                      -3.2922e-02, -1.2270e-01, -7.0649e-02, -9.2429e-02, -6.6406e-02,\n",
              "                      -5.3925e-02, -2.6512e-02, -7.9191e-02, -7.2567e-02, -5.9386e-02,\n",
              "                      -3.0582e-01, -9.6930e-02, -3.5009e-02, -4.7114e-02, -5.2203e-02,\n",
              "                      -1.7623e-01, -1.0134e-02, -8.3833e-02, -4.3621e-02, -1.5354e-02,\n",
              "                      -7.3753e-02, -4.3508e-02, -5.9652e-02, -5.6614e-02, -4.6036e-02,\n",
              "                      -5.7792e-02, -2.4884e-02, -7.7231e-02, -1.4285e-01, -5.0829e-02,\n",
              "                      -8.7973e-02,  4.6150e-01, -2.0827e-02, -1.7431e-02, -6.4666e-02,\n",
              "                      -3.5977e-02, -6.0761e-02, -2.3284e-02,  3.4604e-01, -7.0849e-02,\n",
              "                      -1.6990e-02, -8.2365e-02, -5.0931e-02, -5.7938e-02, -5.9028e-02,\n",
              "                       4.2563e-01, -4.7802e-02, -1.5388e-03,  3.5491e-01,  3.2909e-01,\n",
              "                      -3.0371e-02,  8.5735e-02, -1.3311e-01, -1.2870e-03, -1.6459e-02,\n",
              "                      -9.1592e-02, -1.2650e-01, -5.7286e-02, -4.8038e-03,  3.3275e-01,\n",
              "                      -1.1087e-01, -1.6872e-02, -3.1994e-03, -1.8950e-02, -1.3894e-01,\n",
              "                      -7.1767e-02, -7.4724e-02, -8.2459e-02,  3.0191e-01, -7.5079e-02,\n",
              "                       2.9800e-01,  2.1867e-01, -7.1370e-02, -7.6762e-02, -9.5437e-03,\n",
              "                      -4.7994e-02, -7.6139e-02, -7.1570e-02, -5.5168e-02, -3.4676e-01,\n",
              "                      -5.6124e-02, -5.6531e-02,  3.2177e-01, -4.9776e-02,  2.5321e-01,\n",
              "                       9.8104e-02, -6.1470e-02,  3.5965e-01,  2.2652e-01, -7.2579e-02,\n",
              "                       5.6625e-01, -6.6808e-02, -1.1225e-01, -3.7429e-02, -5.6370e-02,\n",
              "                      -6.4295e-02, -8.5167e-02, -3.7823e-02, -3.6356e-02,  2.6736e-01,\n",
              "                      -3.0187e-02,  2.0420e-01, -7.1212e-02, -1.6222e-01, -1.0723e-01,\n",
              "                      -8.1585e-02, -7.6453e-02, -1.1489e-01, -3.4783e-01, -2.2833e-04,\n",
              "                       3.0737e-01, -1.8728e-03, -6.9014e-02,  3.1558e-01, -1.2377e-01,\n",
              "                      -1.3128e-02, -4.6500e-02, -6.4257e-02, -1.1849e-01, -5.6656e-02,\n",
              "                       6.7037e-01, -7.3172e-02, -1.9492e-02, -1.2999e-02, -3.8360e-01,\n",
              "                      -7.7649e-02, -9.2744e-02, -3.8156e-03, -9.8832e-02,  6.6896e-02,\n",
              "                      -1.9900e-02,  3.3026e-01, -7.6051e-02, -9.8255e-02, -4.0766e-02,\n",
              "                      -8.7953e-02, -1.0714e-01,  2.2484e-01, -8.2316e-02, -1.1697e-02,\n",
              "                       5.1299e-01, -1.1555e-03, -3.8500e-02,  3.5468e-01, -9.7035e-02,\n",
              "                      -3.8662e-02, -4.7403e-02, -5.2993e-02, -6.8680e-02, -4.1603e-02,\n",
              "                      -3.7812e-02, -7.8852e-02, -7.0482e-02, -7.7923e-02, -8.2791e-02,\n",
              "                      -8.0717e-02,  5.9685e-02,  2.2988e-01, -4.9906e-02, -5.2235e-02,\n",
              "                       6.6731e-01, -1.0972e-01, -7.4693e-02, -5.4242e-02, -5.6815e-02,\n",
              "                      -7.1967e-02,  4.3920e-01, -8.9987e-02, -6.9897e-02, -7.9178e-02,\n",
              "                      -1.9405e-02, -6.8003e-02, -7.3613e-02, -8.9100e-02, -3.5925e-02,\n",
              "                      -3.5086e-02, -7.8273e-02, -9.7802e-02, -2.2226e-02, -1.9164e-02,\n",
              "                      -8.0235e-02,  1.8983e-01, -1.5778e-02,  2.4929e-01,  4.1589e-01,\n",
              "                       5.9359e-01,  2.2331e-01, -6.5763e-02, -6.7903e-02, -5.5860e-02,\n",
              "                      -5.6287e-02, -2.7564e-02,  1.9771e-01, -1.3912e-01, -1.6031e-02,\n",
              "                       3.2441e-01, -9.2247e-02, -6.1235e-02, -5.2030e-03,  3.1627e-01,\n",
              "                       1.2831e-01, -1.9582e-02, -1.1153e-01,  4.3692e-01,  3.8644e-01,\n",
              "                      -5.9217e-02,  1.9603e-02, -3.0093e-02, -6.6419e-02, -4.0141e-01,\n",
              "                      -8.0788e-02, -5.0188e-02, -9.9399e-02, -3.8777e-02,  2.7068e-01,\n",
              "                       2.0990e-01,  3.4225e-01, -2.9681e-02, -7.1790e-02,  2.9538e-01,\n",
              "                      -2.7763e-02, -3.2063e-02, -9.4744e-02, -7.0509e-04, -3.4936e-02,\n",
              "                       2.5866e-01, -3.3570e-02,  2.0139e-01, -2.8392e-02, -3.4191e-02,\n",
              "                      -8.9191e-02, -5.9273e-02,  7.6518e-02, -4.7965e-02, -1.5125e-02,\n",
              "                      -1.8995e-02, -7.7003e-02, -1.0345e-01, -2.1536e-01, -4.2826e-02,\n",
              "                      -6.1783e-02, -5.9593e-02, -1.9976e-02,  2.9177e-01,  2.1254e-01,\n",
              "                       3.1937e-01, -8.3596e-02, -2.2129e-02, -7.8723e-02,  6.7412e-01,\n",
              "                      -2.6585e-01, -8.9867e-02, -2.3374e-02, -1.0846e-01, -8.8531e-02,\n",
              "                      -3.5973e-01, -6.0644e-02,  1.8802e-01, -1.9279e-02, -5.0213e-02,\n",
              "                      -9.1062e-02, -2.2870e-02, -6.7979e-02, -8.6883e-02,  4.3151e-01,\n",
              "                      -7.0236e-02, -1.5627e-02, -2.7165e-02, -8.9008e-02, -1.2590e-01,\n",
              "                      -4.8377e-02,  2.8219e-01, -9.8890e-02, -3.4778e-02, -1.9183e-02,\n",
              "                      -5.1818e-02, -1.1838e-01, -6.0007e-02, -7.6529e-02, -6.9969e-02,\n",
              "                      -7.4378e-02, -6.6468e-02, -3.8691e-01, -7.2586e-02, -9.0397e-02,\n",
              "                      -3.7111e-02, -2.3705e-02,  6.8708e-01, -2.8324e-02, -4.6019e-02,\n",
              "                      -1.0547e-01, -5.4348e-02, -1.9197e-02, -4.7974e-02,  4.6025e-01,\n",
              "                      -2.3949e-01, -1.4926e-02, -4.8183e-02, -2.2186e-02, -6.4645e-02,\n",
              "                       3.0514e-01, -5.6474e-02, -6.5066e-02, -2.7481e-02, -2.8350e-02,\n",
              "                      -3.1652e-02, -9.1830e-02, -5.4303e-02, -8.9087e-02,  1.1176e-01,\n",
              "                      -2.7233e-02, -4.8696e-02, -2.4212e-02, -4.5111e-02, -4.3414e-03,\n",
              "                      -5.0923e-02, -3.0584e-01, -9.0000e-02, -5.5592e-02, -8.7390e-02,\n",
              "                      -6.0150e-02, -8.6297e-02, -1.9754e-02, -9.1000e-02,  2.7709e-01,\n",
              "                      -5.2257e-02, -1.0334e-01, -7.6025e-02, -6.7255e-02, -1.4072e-01,\n",
              "                       6.2599e-01, -2.4639e-02, -2.8306e-01, -4.2177e-02,  3.6033e-01,\n",
              "                      -4.8788e-02, -5.5941e-02, -4.2935e-02, -3.3525e-03, -6.0054e-02,\n",
              "                      -4.9244e-02, -9.3402e-02, -7.0476e-02,  3.4079e-01,  7.8799e-02,\n",
              "                      -6.3508e-02, -6.7773e-02, -8.7483e-02, -8.5276e-02, -2.3260e-02,\n",
              "                      -6.2512e-02, -7.2256e-02, -8.8774e-02,  2.4799e-01, -1.3362e-01,\n",
              "                      -2.4899e-02, -2.2832e-02, -7.9918e-02, -3.8174e-02, -6.1046e-02,\n",
              "                      -5.1673e-02,  2.5310e-01, -2.0634e-01, -5.4480e-02, -1.2174e-01,\n",
              "                      -7.7847e-02,  1.0778e-01,  1.5732e-01, -1.3586e-02, -8.6550e-02,\n",
              "                      -1.9396e-02, -5.7415e-02, -6.7445e-02, -9.5697e-02, -8.4787e-02,\n",
              "                      -1.9296e-01, -6.3157e-02, -6.8968e-02, -4.8848e-02, -5.8666e-02,\n",
              "                      -9.8672e-02, -2.1423e-02,  2.8493e-01, -6.2313e-02, -7.3661e-02,\n",
              "                      -8.8439e-02, -6.6911e-02,  4.7473e-01, -1.0165e-01, -4.7145e-02,\n",
              "                       2.0067e-01, -1.5138e-01, -8.0574e-02, -8.6538e-02, -1.0297e-01,\n",
              "                      -4.5826e-01, -1.0613e-01, -7.2710e-03, -2.6161e-02, -7.4031e-02,\n",
              "                      -3.0235e-02, -7.1661e-02, -5.0642e-02, -1.9335e-01, -4.6391e-02,\n",
              "                      -6.1753e-02, -5.4969e-02, -4.3726e-02, -9.3395e-02, -8.1986e-02,\n",
              "                       2.1855e-01, -9.3700e-02, -5.3958e-02, -6.0489e-02,  1.8937e-01,\n",
              "                      -1.1992e-02, -8.4219e-02, -1.5993e-01,  4.1113e-01, -5.9507e-02,\n",
              "                      -1.2127e-01, -2.8253e-02, -8.2003e-02, -5.3737e-03, -4.0358e-02,\n",
              "                      -7.9741e-02, -5.3306e-02, -6.7907e-03,  9.0881e-02,  4.3133e-01,\n",
              "                      -7.5808e-02, -2.5618e-02, -4.5325e-02, -5.4610e-02, -6.9203e-02,\n",
              "                      -1.1080e-02, -5.3052e-02, -8.6637e-02, -5.6118e-02, -1.0075e+00,\n",
              "                       3.1308e-01,  5.3799e-02, -5.5346e-02, -6.3014e-02, -1.1362e-01,\n",
              "                       3.4370e-01, -1.0809e-01, -4.8996e-02, -1.0678e-01,  2.0092e-01,\n",
              "                       2.0708e-01, -7.8099e-02, -1.2520e-01, -5.5676e-02, -7.0846e-02,\n",
              "                      -1.0541e-01, -1.1737e-02, -1.9447e-02, -4.4325e-02, -3.4443e-02,\n",
              "                      -7.0850e-02,  3.7687e-01, -3.2877e-02, -1.1592e-01, -8.3185e-02,\n",
              "                      -4.6628e-02, -6.6702e-02, -3.0861e-02, -4.3803e-02, -5.7004e-02,\n",
              "                      -4.0847e-02, -3.9600e-02, -6.3202e-02, -7.7517e-02,  3.8375e-01,\n",
              "                      -4.2064e-02, -9.3512e-02, -1.6036e-01, -6.4908e-02, -1.0789e-01,\n",
              "                      -6.9970e-02, -4.9907e-02, -9.5791e-02, -1.6697e-04, -1.1173e+00,\n",
              "                      -6.3573e-02, -4.9957e-02, -8.6137e-02, -3.8543e-02, -1.2948e-01,\n",
              "                       4.2428e-01, -4.5300e-02, -5.2168e-02, -1.0365e-01, -1.0526e-02,\n",
              "                      -8.4723e-02, -4.2194e-02, -1.2024e-01, -1.7136e-02,  3.4247e-01,\n",
              "                      -8.8408e-02, -8.1084e-02, -1.2300e-01, -3.1410e-02, -1.9152e-02,\n",
              "                      -2.1561e-01,  2.5697e-01, -1.4668e-02, -7.4668e-02, -5.5246e-02,\n",
              "                      -6.1620e-02, -3.8283e-02, -3.5900e-02, -5.0785e-02, -4.3093e-02,\n",
              "                      -5.6508e-02, -3.7494e-02, -1.0834e-01, -7.6631e-02, -9.8664e-02,\n",
              "                      -7.9947e-02, -7.3564e-02, -1.1927e-02,  2.8821e-01,  3.9449e-01,\n",
              "                       2.8115e-01,  1.1514e-01,  2.0412e-01, -6.8461e-02, -7.0089e-02],\n",
              "                     device='cuda:0')),\n",
              "             ('encoder.mu.0.weight',\n",
              "              tensor([[-7.5376e-02, -4.9045e-02,  8.9572e-02,  ..., -4.9853e-02,\n",
              "                        3.2403e-14,  8.4498e-03],\n",
              "                      [-6.2255e-02, -1.2560e-02, -1.8803e-02,  ..., -4.5006e-02,\n",
              "                        2.1601e-06,  4.7449e-02],\n",
              "                      [-2.5265e-02, -1.8193e-02,  6.7249e-02,  ..., -5.6569e-03,\n",
              "                        8.2162e-05,  6.6837e-02],\n",
              "                      ...,\n",
              "                      [-6.0090e-34,  4.6679e-06,  1.0270e-41,  ...,  6.7443e-06,\n",
              "                       -1.8556e-03, -1.0398e-35],\n",
              "                      [-4.2273e-02, -5.3265e-02,  5.0658e-02,  ..., -1.9032e-02,\n",
              "                        1.9647e-10,  1.0572e-02],\n",
              "                      [-5.4271e-02, -4.1507e-02,  4.1622e-02,  ..., -3.2065e-02,\n",
              "                        6.6462e-02, -2.1446e-03]], device='cuda:0')),\n",
              "             ('encoder.mu.0.bias',\n",
              "              tensor([ 7.4558e-02, -4.2701e-02,  5.7016e-02, -8.2697e-02, -2.1408e-01,\n",
              "                       4.3935e-05,  5.6699e-05,  1.7971e-01, -2.6125e-05, -1.9837e-01,\n",
              "                       8.8447e-02], device='cuda:0')),\n",
              "             ('encoder.sigma.0.weight',\n",
              "              tensor([[-5.2102e-02, -3.0606e-02, -2.6886e-02,  ..., -7.1600e-02,\n",
              "                       -9.9786e-42, -1.1949e-02],\n",
              "                      [-2.8470e-02, -5.4999e-02, -2.5191e-02,  ..., -1.4113e-01,\n",
              "                       -2.1180e-07, -2.9291e-02],\n",
              "                      [-3.2516e-02, -1.2764e-01, -6.3846e-02,  ..., -1.3527e-01,\n",
              "                       -1.5630e-02, -2.9104e-02],\n",
              "                      ...,\n",
              "                      [ 9.9857e-42,  9.1655e-03,  1.2593e-41,  ...,  4.4335e-03,\n",
              "                       -9.1673e-42, -9.4497e-28],\n",
              "                      [-6.2545e-02, -5.6643e-02, -1.2149e-02,  ..., -1.5619e-01,\n",
              "                       -6.2928e-07, -2.0248e-02],\n",
              "                      [-6.1450e-02, -1.9114e-01, -4.7839e-02,  ..., -2.1338e-01,\n",
              "                       -2.5517e-02, -5.2543e-02]], device='cuda:0')),\n",
              "             ('encoder.sigma.0.bias',\n",
              "              tensor([-0.2146, -0.3363, -0.1775, -0.2261, -0.2569, -0.0345, -0.0605, -0.1778,\n",
              "                       0.0323, -0.1445, -0.1610], device='cuda:0')),\n",
              "             ('decoder.sparse_layer.0.mask',\n",
              "              tensor([[0., 0., 0.,  ..., 0., 0., 1.],\n",
              "                      [0., 0., 0.,  ..., 0., 0., 1.],\n",
              "                      [0., 0., 1.,  ..., 0., 0., 1.],\n",
              "                      ...,\n",
              "                      [0., 0., 0.,  ..., 0., 0., 1.],\n",
              "                      [0., 0., 0.,  ..., 0., 0., 1.],\n",
              "                      [0., 0., 0.,  ..., 0., 0., 1.]], device='cuda:0')),\n",
              "             ('decoder.sparse_layer.0.weight',\n",
              "              tensor([[-0.0000, -0.0000, -0.0000,  ...,  0.0000,  0.0000, -0.0260],\n",
              "                      [ 0.0000, -0.0000,  0.0000,  ..., -0.0000, -0.0000,  0.0229],\n",
              "                      [ 0.0000,  0.0000, -0.0089,  ...,  0.0000,  0.0000,  0.0230],\n",
              "                      ...,\n",
              "                      [ 0.0000,  0.0000,  0.0000,  ...,  0.0000,  0.0000,  0.0008],\n",
              "                      [-0.0000, -0.0000, -0.0000,  ...,  0.0000,  0.0000, -0.0038],\n",
              "                      [-0.0000,  0.0000, -0.0000,  ...,  0.0000, -0.0000, -0.0054]],\n",
              "                     device='cuda:0')),\n",
              "             ('decoder.sparse_layer.0.bias',\n",
              "              tensor([ 0.2356,  0.0304,  0.0449,  ...,  0.0021, -0.0069, -0.0030],\n",
              "                     device='cuda:0'))])"
            ]
          },
          "metadata": {},
          "execution_count": 22
        }
      ]
    },
    {
      "cell_type": "code",
      "source": [
        "vega_ctr.state_dict()[\"decoder.sparse_layer.0.mask\"].shape # torch has 2168 rows and 11 columns  (input_dim, latent_dim)"
      ],
      "metadata": {
        "colab": {
          "base_uri": "https://localhost:8080/"
        },
        "id": "nWflbAaEEzVC",
        "outputId": "eefae697-16db-4835-a275-33cfaf1339f2"
      },
      "execution_count": 27,
      "outputs": [
        {
          "output_type": "execute_result",
          "data": {
            "text/plain": [
              "torch.Size([2168, 11])"
            ]
          },
          "metadata": {},
          "execution_count": 27
        }
      ]
    },
    {
      "cell_type": "code",
      "source": [
        "import matplotlib.pyplot as plt\n",
        "import torch\n",
        "\n",
        "# Get the decoder weights\n",
        "weights = vega_ctr.state_dict()[\"decoder.sparse_layer.0.weight\"]  # shape: [input_dim, latent_dim]\n",
        "\n",
        "# Select one latent node, e.g., index 0\n",
        "latent_idx = 1\n",
        "\n",
        "# Extract its weights to all output nodes (column)\n",
        "weights_from_z = weights[:, latent_idx].cpu().numpy()  # shape: [input_dim]\n",
        "\n",
        "# Plot as a histogram or line\n",
        "plt.figure(figsize=(10, 4))\n",
        "plt.plot(weights_from_z)\n",
        "plt.title(f'Weights from latent node z_{latent_idx} to all output nodes')\n",
        "plt.xlabel('Output node index')\n",
        "plt.ylabel('Weight')\n",
        "plt.grid(True)\n",
        "plt.show()\n"
      ],
      "metadata": {
        "colab": {
          "base_uri": "https://localhost:8080/",
          "height": 600
        },
        "id": "loI9hyGmFZOo",
        "outputId": "0ca22318-b8e3-4d47-e0fa-63c92d5de9c3"
      },
      "execution_count": 46,
      "outputs": [
        {
          "output_type": "display_data",
          "data": {
            "text/plain": [
              "<Figure size 2000x800 with 1 Axes>"
            ],
            "image/png": "[encoded data removed]"
          },
          "metadata": {}
        }
      ]
    },
    {
      "cell_type": "code",
      "source": [
        "weights_from_z.min()\n",
        "#weights_from_z.max()\n"
      ],
      "metadata": {
        "colab": {
          "base_uri": "https://localhost:8080/"
        },
        "id": "TBexMtTJUcnf",
        "outputId": "e63266fb-fd7e-4615-c0c1-64d6a0ee5c6f"
      },
      "execution_count": 52,
      "outputs": [
        {
          "output_type": "execute_result",
          "data": {
            "text/plain": [
              "np.float32(-0.011345269)"
            ]
          },
          "metadata": {},
          "execution_count": 52
        }
      ]
    }
  ]
}